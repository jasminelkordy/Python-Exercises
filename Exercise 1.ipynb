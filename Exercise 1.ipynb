{
 "cells": [
  {
   "cell_type": "markdown",
   "metadata": {},
   "source": [
    "### Exercise 1"
   ]
  },
  {
   "cell_type": "markdown",
   "metadata": {
    "colab_type": "text",
    "id": "GkXvpU68rfhL"
   },
   "source": [
    "### Assignment Submission:\n",
    "\n",
    "*   Step 1: Don't change the notebook's name. Eg: Exercise-1.ipynb\n",
    "*   Step 2: Download the notebook. Go to File -> Download .ipynb\n",
    "*   Step 3: Submit your assignment via the link: https://www.dropbox.com/request/ZvBWoQUCy8pwRVxQxwJx\n",
    "*   Further notes: If you want to submit your assignment late, email trainer.python@theshortcut.org\n",
    "to ask for extension.\n",
    "\n",
    "\n",
    "\n",
    "\n",
    "\n",
    "\n"
   ]
  },
  {
   "cell_type": "markdown",
   "metadata": {
    "colab_type": "text",
    "id": "WKibXGqYFKOj"
   },
   "source": [
    "## Part 1: Getting Started"
   ]
  },
  {
   "cell_type": "markdown",
   "metadata": {
    "colab_type": "text",
    "id": "Qd-vVHqdFKOl"
   },
   "source": [
    "Statements can be printed in Python using the **print( )** function. Use this function or command to print the following:\n",
    "    1. \"My name is <your name>\"\n",
    "    2. \"It is 35 degrees outside\"\n",
    "    3. 85\n",
    "    4. \"85\"\n",
    "    5. 85.0\n",
    "    6. 3.5\n",
    "    "
   ]
  },
  {
   "cell_type": "code",
   "execution_count": 7,
   "metadata": {
    "colab": {},
    "colab_type": "code",
    "id": "Phm3t0j7FKOo"
   },
   "outputs": [
    {
     "name": "stdout",
     "output_type": "stream",
     "text": [
      "My name is Jasmin el Kordy\n",
      "It is 35 degrees outside\n",
      "85\n",
      "\"85\"\n",
      "\"85\"\n",
      "85.0\n",
      "3.5\n"
     ]
    }
   ],
   "source": [
    "# Write your code below this line\n",
    "print(\"My name is Jasmin\")\n",
    "print(\"It is 35 degrees outside\")\n",
    "print(85)\n",
    "print('\"85\"')\n",
    "print(\"\\\"85\\\"\") #backslash to undo the next mark\n",
    "print(85.0)\n",
    "print(3.5)\n"
   ]
  },
  {
   "cell_type": "markdown",
   "metadata": {
    "colab_type": "text",
    "id": "ha3wGiKWFKOt"
   },
   "source": [
    "Data need to be stored before being used for computation. Programming languages provide **variables** to store data. \n",
    "    1. Define three variables a, b and c. \n",
    "    2. Initialise them with the values of 35, 46.5 and \"hello world\" respectively.\n",
    "    3. What is the data type of each variable?\n",
    "    4. Use the \"type\" function to find out the data type.\n",
    "    5. Can you tell the difference between (3) (4) and (5) in the previous task in Part 1?"
   ]
  },
  {
   "cell_type": "code",
   "execution_count": 31,
   "metadata": {
    "colab": {},
    "colab_type": "code",
    "id": "vjFn8pfhFKOu"
   },
   "outputs": [
    {
     "data": {
      "text/plain": [
       "(int, float, str)"
      ]
     },
     "execution_count": 31,
     "metadata": {},
     "output_type": "execute_result"
    }
   ],
   "source": [
    "# Write your code below this line\n",
    "a = 35\n",
    "b = 46.5\n",
    "c = \"hello world\"\n",
    "type(a),type(b),type(c)"
   ]
  },
  {
   "cell_type": "markdown",
   "metadata": {
    "colab_type": "text",
    "id": "bYyTnsA1FKOy"
   },
   "source": [
    "## Part 2: Arithmetic Operators"
   ]
  },
  {
   "cell_type": "markdown",
   "metadata": {
    "colab_type": "text",
    "id": "IlcDAv7NFKOz"
   },
   "source": [
    "Without running these commands, state the output of the following statements. \n",
    "(Assume that **a = 10**, **b = 5**, **c = 5.5**, **d = 3**)\n",
    "    1. a + 2 * b\n",
    "    2. b - 4 / a\n",
    "    3. a / b\n",
    "    4. a // b\n",
    "    5. 1 / 2\n",
    "    6. 1 // 2\n",
    "    7. 1 % 2\n",
    "    8. a ** d\n",
    "    9. a / b + 5 - 5.5 * c\n",
    "    10. a**2 + 2 - c // 5 * 2\n",
    "    11. (a + b) * 3 / d + (4 - d)\n",
    "    12. 2 * ( a * 2 / a)"
   ]
  },
  {
   "cell_type": "markdown",
   "metadata": {
    "colab_type": "text",
    "id": "jqZPsK3ZFKO0"
   },
   "source": [
    "Now run the commands and print the output. \n",
    "What is the difference between (3) and (4)? What is the **operator precedence** in Python? "
   ]
  },
  {
   "cell_type": "code",
   "execution_count": 3,
   "metadata": {
    "colab": {},
    "colab_type": "code",
    "id": "t9jCmzZiFKO1"
   },
   "outputs": [
    {
     "name": "stdout",
     "output_type": "stream",
     "text": [
      "20\n",
      "4.6\n",
      "2.0\n",
      "2\n",
      "0.5\n",
      "0\n",
      "1\n",
      "1000\n",
      "-23.25\n",
      "100.0\n",
      "16.0\n",
      "4.0\n",
      "In 3 the answer is given as type float whereas in 4 the answer is given as type int, rounded downwards\n",
      "Operator precedence: Parentheses, Exponent, Multiplication, Division, Addition, Subtraction\n"
     ]
    }
   ],
   "source": [
    "# Write your code below this line\n",
    "a = 10\n",
    "b = 5\n",
    "c = 5.5\n",
    "d = 3\n",
    "print(a+2*b)\n",
    "print(b-4/a)\n",
    "print(a/b)\n",
    "print(a//b)\n",
    "print(1/2)\n",
    "print(1//2)\n",
    "print(1%2)\n",
    "print(a**d)\n",
    "print(a/b+5-5.5*c)\n",
    "print(a**2+2-c//5*2)\n",
    "print((a+b)*3/d+(4-d))\n",
    "print(2*(a*2/a))\n",
    "print(\"In 3 the answer is given as type float whereas in 4 the answer is given as type int, rounded downwards\")\n",
    "print(\"Operator precedence: Parentheses, Exponent, Multiplication, Division, Addition, Subtraction\")"
   ]
  },
  {
   "cell_type": "markdown",
   "metadata": {
    "colab_type": "text",
    "id": "V8wZWkFzFKO5"
   },
   "source": [
    "## Part 3: String Operations and Typecasting"
   ]
  },
  {
   "cell_type": "markdown",
   "metadata": {
    "colab_type": "text",
    "id": "oxIWd6FzFKO6"
   },
   "source": [
    "1. Define two string variables and initialise them with \"abc\" and \"xyz\".\n",
    "2. Concatenate the two variables and store them in another variable.\n",
    "3. Determine the length of this variable using **len( )** function.\n",
    "4. Find the number of occurrence of the letter 'o' in \"OOOooofffforossseroO\" using **count( )** function. "
   ]
  },
  {
   "cell_type": "code",
   "execution_count": 17,
   "metadata": {
    "colab": {},
    "colab_type": "code",
    "id": "LSy_uaVRFKO8"
   },
   "outputs": [
    {
     "name": "stdout",
     "output_type": "stream",
     "text": [
      "6\n",
      "10\n"
     ]
    }
   ],
   "source": [
    "a = \"abc\" + \"xyz\"\n",
    "print(len(a))\n",
    "b = \"OOOooofffforossseroO\"\n",
    "print(b.count(\"o\")+b.count(\"O\"))\n",
    "\n"
   ]
  },
  {
   "cell_type": "markdown",
   "metadata": {
    "colab_type": "text",
    "id": "3Uqce9U5FKPC"
   },
   "source": [
    "What is _wrong_ with the following block of code? Run this code to find out the error.\n",
    "\n",
    "    a = \"He got \"\n",
    "    b = 35\n",
    "    c = \"marks in the test\"\n",
    "    d = a + b + c\n",
    "    print(d)"
   ]
  },
  {
   "cell_type": "code",
   "execution_count": 73,
   "metadata": {
    "colab": {},
    "colab_type": "code",
    "id": "8ES4UaZUFKPE"
   },
   "outputs": [
    {
     "name": "stdout",
     "output_type": "stream",
     "text": [
      "He got 35 marks in the test\n"
     ]
    }
   ],
   "source": [
    "# Write your code below this line\n",
    "a = \"He got \"\n",
    "b = 35\n",
    "b = str(b)\n",
    "c = \" marks in the test\"\n",
    "d = a + b + c\n",
    "print(d)\n"
   ]
  },
  {
   "cell_type": "markdown",
   "metadata": {
    "colab_type": "text",
    "id": "nIvMyVYPFKPJ"
   },
   "source": [
    "String operators can only work on variables of string type. Therefore all variables need to be converted to string before the operation can be applied to them. Variables can be converted from one type to another using _typecasting_. Anything can be typecasted to string by using the **str( )** operator. \n",
    "Now use this operator to fix the error above."
   ]
  },
  {
   "cell_type": "code",
   "execution_count": 93,
   "metadata": {
    "colab": {},
    "colab_type": "code",
    "id": "OW8Z5HvGFKPK"
   },
   "outputs": [
    {
     "name": "stdout",
     "output_type": "stream",
     "text": [
      "He got 35 marks in the test\n"
     ]
    }
   ],
   "source": [
    "# Write your code below this line\n",
    "a = \"He got \"\n",
    "b = 35\n",
    "b = str(b)\n",
    "c = \" marks in the test\"\n",
    "d = a + b + c\n",
    "print(d)"
   ]
  },
  {
   "cell_type": "markdown",
   "metadata": {
    "colab_type": "text",
    "id": "6UDEPHHQFKPQ"
   },
   "source": [
    "## Part 4: Relational and Logical Operators"
   ]
  },
  {
   "cell_type": "markdown",
   "metadata": {
    "colab_type": "text",
    "id": "uuR8pn6NFKPS"
   },
   "source": [
    "Without running these commands, state whether these statements would be **True** or **False**. \n",
    "    1. 12 > 13\n",
    "    2. 12 > 12\n",
    "    3. 12 >= 12\n",
    "    4. 12 < 12\n",
    "    5. 12 <= 12\n",
    "    6. 12 < 13\n",
    "    7. 12 == 12\n",
    "    8. 12.0 == 12\n",
    "    9. 13.5 >= 13\n",
    "    10. 23.4 > 22.8\n",
    "Now use the **print( )** function to see the output."
   ]
  },
  {
   "cell_type": "code",
   "execution_count": 19,
   "metadata": {
    "colab": {},
    "colab_type": "code",
    "id": "qyhoEHSMFKPT"
   },
   "outputs": [
    {
     "name": "stdout",
     "output_type": "stream",
     "text": [
      "False\n",
      "False\n",
      "True\n",
      "False\n",
      "True\n",
      "True\n",
      "True\n",
      "True\n",
      "True\n",
      "True\n"
     ]
    }
   ],
   "source": [
    "# Write your code below this line\n",
    "print((12 > 13))\n",
    "print((12 > 12))\n",
    "print((12 >= 12))\n",
    "print((12 < 12))\n",
    "print((12 <= 12))\n",
    "print((12 < 13))\n",
    "print((12 == 12))\n",
    "print((12.0 == 12))\n",
    "print((13.5 >= 13))\n",
    "print(bool(23.4 > 22.8))"
   ]
  },
  {
   "cell_type": "markdown",
   "metadata": {
    "colab_type": "text",
    "id": "v1wsGwY-FKPX"
   },
   "source": [
    "Again without running these commands state whether the statemnts are **True** or **False** and then run the commands to see the output.\n",
    "    1. 12 < 13 and 1 > 2\n",
    "    2. 12 < 13 or 1 > 2\n",
    "    3. 12 < 13 and 14 > 5 or 16 == 15\n",
    "    4. 12 < 13 and 14 > 5 and 16 == 15"
   ]
  },
  {
   "cell_type": "code",
   "execution_count": 21,
   "metadata": {
    "colab": {},
    "colab_type": "code",
    "id": "Z_ZhqrTuFKPY"
   },
   "outputs": [
    {
     "name": "stdout",
     "output_type": "stream",
     "text": [
      "False\n",
      "True\n",
      "True\n",
      "False\n"
     ]
    }
   ],
   "source": [
    "# Write your code below this line\n",
    "print(bool(12 < 13 and 1 > 2))\n",
    "print(bool(12 < 13 or 1 > 2))\n",
    "print(bool(12 < 13 and 14 > 5 or 16 == 15))\n",
    "print(bool(12 < 13 and 14 > 5 and 16 == 15))"
   ]
  },
  {
   "cell_type": "markdown",
   "metadata": {
    "colab_type": "text",
    "id": "3vAtdaSpqfPu"
   },
   "source": [
    "**1** - If a car has been on the driving from **Reading** to **Southampton** for **35 minutes** at an average speed of **48 miles per hour**, how long does it still have to go, considering that it will maintain a constant average speed throughout the trajectory."
   ]
  },
  {
   "cell_type": "markdown",
   "metadata": {
    "colab_type": "text",
    "id": "0ULM8x__qkbf"
   },
   "source": [
    "First, we must define where is Reading and Southampton and try to figure out the best route available:\n",
    "\n",
    "According to [Google Maps](https://www.google.com/maps/dir/Reading,+UK/Southampton,+UK/@51.1815507,-1.3244673,10z/data=!3m1!4b1!4m14!4m13!1m5!1m1!1s0x48742078d93d3db7:0x2ae19f7fcefa7994!2m2!1d-0.9781303!2d51.4542645!1m5!1m1!1s0x48738957be152909:0xa78c5a6a4cda71f0!2m2!1d-1.4043509!2d50.9097004!3e0 \"Reading to Southampton routes\"), the shortest route takes **50.8 miles**. This is my **first assumption** and I should make sure that others are aware that I have made this assumption.\n",
    "Considering that we have all the information needed, let's now run a few lines of code."
   ]
  },
  {
   "cell_type": "code",
   "execution_count": 30,
   "metadata": {
    "colab": {},
    "colab_type": "code",
    "id": "AqydU3z8qlcC"
   },
   "outputs": [
    {
     "name": "stdout",
     "output_type": "stream",
     "text": [
      "28.5 minutes\n"
     ]
    }
   ],
   "source": [
    "#Your Solution\n",
    "driven_min=35\n",
    "total_time_min = 50.8/48*60\n",
    "print(total_time_min-driven,'minutes')"
   ]
  },
  {
   "cell_type": "markdown",
   "metadata": {
    "colab_type": "text",
    "id": "lxLmOB7-qqS9"
   },
   "source": [
    "### Remark:\n",
    "- You can use formatted string literal method to include a variable's value within a string.\n",
    "- To do that you can write an __f__ before the string and place the variable name between __{ }__ at your preferred location inside the string.\n",
    "- You can format the variable by including an optional format specifier. For example __:.2f__ means you want a float output with 2 numbers after the decimal point."
   ]
  },
  {
   "cell_type": "markdown",
   "metadata": {
    "colab_type": "text",
    "id": "CM0oKtPLqtsq"
   },
   "source": [
    "2 - The imperial system can be quite confusing for most of us, so how about converting all variables from the previous exercise to the metric system?"
   ]
  },
  {
   "cell_type": "code",
   "execution_count": 42,
   "metadata": {
    "colab": {},
    "colab_type": "code",
    "id": "O9P99cQcqyfG"
   },
   "outputs": [
    {
     "name": "stdout",
     "output_type": "stream",
     "text": [
      "route: 81.75 km\n",
      "speed: 77.25 km/h\n"
     ]
    }
   ],
   "source": [
    "#Your Solution\n",
    "multiplier = 1.609344\n",
    "route_in_km = 50.8*multiplier\n",
    "speed_in_km = 48*multiplier\n",
    "print('route: {:.2f}'.format(route_in_km),'km')\n",
    "print('speed: {:.2f}'.format(speed_in_km),'km/h') #converts integer to a string with 2 decimals"
   ]
  },
  {
   "cell_type": "markdown",
   "metadata": {
    "colab_type": "text",
    "id": "xy1G-Xkeq9CN"
   },
   "source": [
    "3 - You have invited some of your American friends to go to sauna. You check the thermometer and it shows 80C. Convert the temperature into Farenheit. The thermometer from the lake is now showing 15C, could you also convert that?"
   ]
  },
  {
   "cell_type": "markdown",
   "metadata": {
    "colab_type": "text",
    "id": "bWUl4Dfhq_1y"
   },
   "source": [
    "The formula to convert the temperature from Celsius to Farenheit is $F=(\\frac{9}{5} C) + 32$"
   ]
  },
  {
   "cell_type": "code",
   "execution_count": 165,
   "metadata": {
    "colab": {},
    "colab_type": "code",
    "id": "J8Vb2RxVrCSg"
   },
   "outputs": [
    {
     "name": "stdout",
     "output_type": "stream",
     "text": [
      "Sauna temp. in fahrenheit: 176.0\n",
      "Lake temp. in fahrenheit: 59.0\n"
     ]
    }
   ],
   "source": [
    "#Your Solution\n",
    "sauna_temp_c = 80\n",
    "sauna_temp_f = (9/5*sauna_temp_c)+32\n",
    "lake_temp_c = 15\n",
    "lake_temp_f = (9/5*lake_temp_c)+32\n",
    "print('Sauna temp. in fahrenheit:',sauna_temp_f)\n",
    "print('Lake temp. in fahrenheit:',lake_temp_f)"
   ]
  },
  {
   "cell_type": "markdown",
   "metadata": {
    "colab_type": "text",
    "id": "fpjyCTyTrEwG"
   },
   "source": [
    "4 - If you invest 100 euros with a 2% monthly interest rate for a year, how much will you have by the end of the period?"
   ]
  },
  {
   "cell_type": "markdown",
   "metadata": {
    "colab_type": "text",
    "id": "dxzf5SLxrKc8"
   },
   "source": [
    "The formula to determine the future value of an investment is:\n",
    "$$FV = PV(1 + r)^k $$\n",
    "Where:\n",
    "- $FV$ is the Future Value;\n",
    "- $PV$ is the Present Value;\n",
    "- $r$ is the interest rate;\n",
    "- $k$ is the number of periods.\n",
    "\n",
    "We are assuming that the payment is in the beginning of the period."
   ]
  },
  {
   "cell_type": "code",
   "execution_count": 8,
   "metadata": {
    "colab": {},
    "colab_type": "code",
    "id": "lTS6OtdDrIEY"
   },
   "outputs": [
    {
     "name": "stdout",
     "output_type": "stream",
     "text": [
      "126.82417945625456\n"
     ]
    }
   ],
   "source": [
    "#Your Solution\n",
    "pv=100\n",
    "r=0.02\n",
    "k=12\n",
    "fv=pv*(1+r)**k\n",
    "print(fv)"
   ]
  },
  {
   "cell_type": "markdown",
   "metadata": {
    "colab_type": "text",
    "id": "ZoG-IPy8rR-m"
   },
   "source": [
    "There is a different formula for the periods where there are monthly payments and then push that to future value using the formular from the previous exercise. Here is the new formula:\n",
    "$$RTN = PMT \\frac {(1 + r)^k - 1}{r} (1+r)$$\n",
    "Where:\n",
    "- $RTN$ is the return by the end of the last period;\n",
    "- $PMT$ is the monthly payment;\n",
    "- $r$ is the interest rate;\n",
    "- $k$ is the number of periods.\n",
    "\n",
    "Again, we are assuming that the payments are happening in the beginning of the period."
   ]
  },
  {
   "cell_type": "code",
   "execution_count": 23,
   "metadata": {
    "colab": {},
    "colab_type": "code",
    "id": "sWF2xzHDrSeg"
   },
   "outputs": [
    {
     "name": "stdout",
     "output_type": "stream",
     "text": [
      "1368.033152268982\n"
     ]
    }
   ],
   "source": [
    "#Your Solution\n",
    "# PMT = 100 €\n",
    "\n",
    "pmt = 100\n",
    "r = 0.02\n",
    "k = 12\n",
    "rtn = pmt*((1+r)**k-1)/r*(1+r)\n",
    "print(rtn)"
   ]
  }
 ],
 "metadata": {
  "anaconda-cloud": {},
  "colab": {
   "collapsed_sections": [],
   "name": "Exercise-1.ipynb",
   "provenance": []
  },
  "kernelspec": {
   "display_name": "Python 3",
   "language": "python",
   "name": "python3"
  },
  "language_info": {
   "codemirror_mode": {
    "name": "ipython",
    "version": 3
   },
   "file_extension": ".py",
   "mimetype": "text/x-python",
   "name": "python",
   "nbconvert_exporter": "python",
   "pygments_lexer": "ipython3",
   "version": "3.7.4"
  }
 },
 "nbformat": 4,
 "nbformat_minor": 1
}
