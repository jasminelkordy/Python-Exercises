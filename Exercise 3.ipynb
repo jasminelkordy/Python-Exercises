{
 "cells": [
  {
   "cell_type": "markdown",
   "metadata": {
    "colab_type": "text",
    "id": "PH-YwBigGWV8"
   },
   "source": [
    "#**Exercise 3**\n",
    "**Assignment Submission:**\n",
    "* Don't change the notebook's name. Eg: Exercise-3.ipynb\n",
    "* Submit your assignment via the link: https://www.bit.ly/python-submit"
   ]
  },
  {
   "cell_type": "markdown",
   "metadata": {
    "colab_type": "text",
    "id": "t71EAYHqwy2I"
   },
   "source": [
    "1 - Define a function max() that takes two numbers as arguments and returns the largest of them. \n",
    "* Use the if-then-else construct available in Python. (It is true that Python has the max() function built in, but writing it yourself is nevertheless a good exercise.)"
   ]
  },
  {
   "cell_type": "code",
   "execution_count": 20,
   "metadata": {
    "colab": {},
    "colab_type": "code",
    "id": "PJhtQV3sxQWR",
    "scrolled": true
   },
   "outputs": [
    {
     "name": "stdout",
     "output_type": "stream",
     "text": [
      "Insert a number: 4\n",
      "Insert a number: 3\n",
      "The max of the two numbers is: 4\n"
     ]
    }
   ],
   "source": [
    "#Your solution goes here\n",
    "input1=input(\"Insert a number: \")\n",
    "input2=input(\"Insert a number: \")\n",
    "\n",
    "def returnMax(input1,input2):\n",
    "    if (input1>input2):\n",
    "        string1 = \"The max of the two numbers is: \"+ input1       \n",
    "    elif (input2>input1):\n",
    "        string1= \"The max of the two numbers is: \"+ input2\n",
    "    elif (input1==input2):\n",
    "        string1=\"The two numbers are equal.\"\n",
    "    return string1\n",
    "\n",
    "print(returnMax(input1,input2))\n"
   ]
  },
  {
   "cell_type": "markdown",
   "metadata": {
    "colab_type": "text",
    "id": "6DsTmtHdxVPM"
   },
   "source": [
    "## 2 - Calculate the amount obtained by investing the principal (P) for (N) years at the rate of (R). The following formula is used for the conversion:\n",
    "\n",
    "\n",
    "```\n",
    " A = P * (1 + R) ^ N\n",
    "```\n",
    "\n"
   ]
  },
  {
   "cell_type": "code",
   "execution_count": 12,
   "metadata": {
    "colab": {},
    "colab_type": "code",
    "id": "GQaFNnMkx-E1"
   },
   "outputs": [
    {
     "name": "stdout",
     "output_type": "stream",
     "text": [
      "Enter amount of investment: 1000\n",
      "Enter the interest rate: 0.02\n",
      "Enter the amount of the periods: 1\n",
      "1020.0\n"
     ]
    }
   ],
   "source": [
    "#Your solution goes here\n",
    "def functionFutureValue():\n",
    "    futureValueA=((P*(1+R)**N))\n",
    "    return futureValueA\n",
    "\n",
    "P=float(input(\"Enter amount of investment: \"))\n",
    "R=float(input(\"Enter the interest rate: \"))\n",
    "N=float(input(\"Enter the amount of the periods: \"))\n",
    "\n",
    "print(functionFutureValue())\n",
    "    \n"
   ]
  },
  {
   "cell_type": "markdown",
   "metadata": {
    "colab_type": "text",
    "id": "KAuIfbdtzUC1"
   },
   "source": [
    "3 - Let’s define a list of words: list_words = ['japan','uk', 'australia', 'finland', 'denmark', 'sweden']\n",
    "\n",
    "* Use a map function to print the number of character of each word:\n",
    "\n",
    "\n",
    "\n"
   ]
  },
  {
   "cell_type": "code",
   "execution_count": 21,
   "metadata": {
    "colab": {},
    "colab_type": "code",
    "id": "IX46kbzdzlDn"
   },
   "outputs": [
    {
     "name": "stdout",
     "output_type": "stream",
     "text": [
      "5,2,9,7,7,6,"
     ]
    }
   ],
   "source": [
    "#Your solution goes here\n",
    "list_of_words = ['japan','uk', 'australia', 'finland', 'denmark', 'sweden']\n",
    "\n",
    "for item in list_of_words: \n",
    "    print(len(item),end=\",\")"
   ]
  },
  {
   "cell_type": "code",
   "execution_count": 22,
   "metadata": {},
   "outputs": [
    {
     "name": "stdout",
     "output_type": "stream",
     "text": [
      "5\n",
      "2\n",
      "9\n",
      "7\n",
      "7\n",
      "6\n"
     ]
    },
    {
     "data": {
      "text/plain": [
       "<map at 0x110c1d7d0>"
      ]
     },
     "execution_count": 22,
     "metadata": {},
     "output_type": "execute_result"
    }
   ],
   "source": [
    "list_of_words = ['japan','uk', 'australia', 'finland', 'denmark', 'sweden']\n",
    "\n",
    "def countWords():\n",
    "    for item in list_of_words:\n",
    "        print(len(item))\n",
    "        \n",
    "map(countWords(),list_of_words) #map(call function, call list)"
   ]
  },
  {
   "cell_type": "markdown",
   "metadata": {
    "colab_type": "text",
    "id": "HjyczTsSzn9I"
   },
   "source": [
    "4 - A recipe you are reading states how many grams you need for the ingredient. Unfortunately, your store only sells items in ounces. Create a function to convert grams to ounces.\n",
    "ounces = 28.3495231 * grams\n",
    " "
   ]
  },
  {
   "cell_type": "code",
   "execution_count": 27,
   "metadata": {
    "colab": {},
    "colab_type": "code",
    "id": "mfM2VTSw0ouc"
   },
   "outputs": [
    {
     "name": "stdout",
     "output_type": "stream",
     "text": [
      "Insert amount in grams here: 100\n",
      "3.5273961980686726\n"
     ]
    }
   ],
   "source": [
    "#Your solution goes here\n",
    "def gramsToOunces(grams):\n",
    "    ounces=grams/28.3495231\n",
    "    return ounces\n",
    "\n",
    "userInput=float(input(\"Insert amount in grams here: \"))\n",
    "\n",
    "print(gramsToOunces(userInput))"
   ]
  },
  {
   "cell_type": "markdown",
   "metadata": {
    "colab_type": "text",
    "id": "aE6n2Cpw3qUk"
   },
   "source": [
    "5 - Given a list of fruits: ['orange', 'banana', 'apple', 'strawberries','cherry']. \n",
    "* Find the solution for expected output: ['ORANGE', 'BANANA', 'APPLE', 'STRAWBERRIES']\n",
    "* Apply upper()\n"
   ]
  },
  {
   "cell_type": "code",
   "execution_count": 20,
   "metadata": {
    "colab": {},
    "colab_type": "code",
    "id": "votXqMq1362j"
   },
   "outputs": [
    {
     "name": "stdout",
     "output_type": "stream",
     "text": [
      "['ORANGE', 'BANANA', 'APPLE', 'STRAWBERRIES', 'CHERRY']\n",
      "['ORANGE', 'BANANA', 'APPLE', 'STRAWBERRIES']\n"
     ]
    }
   ],
   "source": [
    "#Your solution goes here\n",
    "\n",
    "def upperCase(x):\n",
    "    return str(x).upper()\n",
    "    \n",
    "listFruits = ['orange', 'banana', 'apple', 'strawberries','cherry']\n",
    "listFruits2 = listFruits[0:4]\n",
    "\n",
    "print(upperCase(listFruits))\n",
    "print(upperCase(listFruits2))"
   ]
  },
  {
   "cell_type": "markdown",
   "metadata": {
    "colab_type": "text",
    "id": "qwcujOeGTlB6"
   },
   "source": [
    "**Bonus Challenge**: Write a program to solve a classic puzzle: We count 35 heads and 94 legs among the chickens and rabbits in a farm. How many rabbits and how many chickens do we have?\n",
    "\n",
    "* Hint: Use a for loop to iterate all possible solutions."
   ]
  },
  {
   "cell_type": "code",
   "execution_count": 26,
   "metadata": {
    "colab": {},
    "colab_type": "code",
    "id": "g8efMPMqTswP"
   },
   "outputs": [],
   "source": [
    "#Your solution goes here\n",
    "\n",
    "#condition: rabbitLegs * rabbits(x) + chickenLegs * chickens(y) = legs(94)\n",
    "#condition 2: rabbits(x) + chickens(y) = 35(heads)\n",
    "\n",
    "rabbits = None\n",
    "chickens = None\n",
    "heads = 35\n",
    "legs = 94\n",
    "rabbitLegs = 4\n",
    "chickenLegs = 2"
   ]
  }
 ],
 "metadata": {
  "colab": {
   "authorship_tag": "ABX9TyPXzQVbk0SmdpsG6Ldz5U1b",
   "collapsed_sections": [],
   "name": "Exercise-3.ipynb",
   "provenance": []
  },
  "kernelspec": {
   "display_name": "Python 3",
   "language": "python",
   "name": "python3"
  },
  "language_info": {
   "codemirror_mode": {
    "name": "ipython",
    "version": 3
   },
   "file_extension": ".py",
   "mimetype": "text/x-python",
   "name": "python",
   "nbconvert_exporter": "python",
   "pygments_lexer": "ipython3",
   "version": "3.7.4"
  }
 },
 "nbformat": 4,
 "nbformat_minor": 1
}
