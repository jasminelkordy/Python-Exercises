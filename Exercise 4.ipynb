{
 "cells": [
  {
   "cell_type": "markdown",
   "metadata": {},
   "source": [
    "# Exercise 4\n",
    "\n",
    "Son Huynh 13.02.2020"
   ]
  },
  {
   "cell_type": "markdown",
   "metadata": {},
   "source": [
    "Deadline: **11.59pm 18.02** (Tuesday)\n",
    "\n",
    "Submit link: https://www.dropbox.com/request/ZvBWoQUCy8pwRVxQxwJx"
   ]
  },
  {
   "cell_type": "markdown",
   "metadata": {
    "collapsed": true
   },
   "source": [
    "## Part 1: Small practice problems"
   ]
  },
  {
   "cell_type": "markdown",
   "metadata": {},
   "source": [
    "1a- Given this nested list, use slicing to grab the last 3 elements"
   ]
  },
  {
   "cell_type": "code",
   "execution_count": 147,
   "metadata": {},
   "outputs": [],
   "source": [
    "lst = [1,2,[3,4],[5,[100,200,['john doe']],23,11],6,1,7]"
   ]
  },
  {
   "cell_type": "code",
   "execution_count": 148,
   "metadata": {},
   "outputs": [
    {
     "data": {
      "text/plain": [
       "[6, 1, 7]"
      ]
     },
     "execution_count": 148,
     "metadata": {},
     "output_type": "execute_result"
    }
   ],
   "source": [
    "# Your solution here\n",
    "lst = [1,2,[3,4],[5,[100,200,['john doe']],23,11],6,1,7]\n",
    "lst[-3:]"
   ]
  },
  {
   "cell_type": "markdown",
   "metadata": {},
   "source": [
    "1b- Now use list indexing to grab the name 'john doe' and store it in a variable called __name__"
   ]
  },
  {
   "cell_type": "code",
   "execution_count": 149,
   "metadata": {},
   "outputs": [
    {
     "data": {
      "text/plain": [
       "'john doe'"
      ]
     },
     "execution_count": 149,
     "metadata": {},
     "output_type": "execute_result"
    }
   ],
   "source": [
    "# Your solution here\n",
    "lst = [1,2,[3,4],[5,[100,200,['john doe']],23,11],6,1,7]\n",
    "name=lst[3][1][2][0]\n",
    "name\n"
   ]
  },
  {
   "cell_type": "markdown",
   "metadata": {},
   "source": [
    "1c- Capitalize the first initials in name"
   ]
  },
  {
   "cell_type": "code",
   "execution_count": 150,
   "metadata": {},
   "outputs": [
    {
     "data": {
      "text/plain": [
       "'John Doe'"
      ]
     },
     "execution_count": 150,
     "metadata": {},
     "output_type": "execute_result"
    }
   ],
   "source": [
    "# Your solution here\n",
    "name.title()"
   ]
  },
  {
   "cell_type": "markdown",
   "metadata": {},
   "source": [
    "2 - Given the string s\n",
    "\n",
    "Write a function that prints the number of times the string __bob__ or __Bob__ occurs in `s`. For example, if `s = 'azcBobobeg'`, then your program should print\n",
    "\n",
    "Number of times bob occurs is: 2"
   ]
  },
  {
   "cell_type": "code",
   "execution_count": 158,
   "metadata": {},
   "outputs": [],
   "source": [
    "# Your solution here"
   ]
  },
  {
   "cell_type": "markdown",
   "metadata": {},
   "source": [
    "3- Create a function that grabs the email website domain from a string in the form:\n",
    "\n",
    "user@domain.com\n",
    "\n",
    "So for example, passing __\"user@domain.com\"__ would return: __domain.com__\n"
   ]
  },
  {
   "cell_type": "code",
   "execution_count": 162,
   "metadata": {},
   "outputs": [
    {
     "name": "stdout",
     "output_type": "stream",
     "text": [
      "user@domain.com\n",
      "user@domain.com\n",
      "user@domain.com\n",
      "user@domain.com\n",
      "user@domain.com\n",
      "user@domain.com\n",
      "user@domain.com\n",
      "user@domain.com\n",
      "user@domain.com\n",
      "user@domain.com\n",
      "user@domain.com\n",
      "user@domain.com\n",
      "user@domain.com\n",
      "user@domain.com\n"
     ]
    }
   ],
   "source": [
    "# Your solution here\n",
    "domain = \"user@domain.com\"\n",
    "\n",
    "def getDomain():\n",
    "    for item in domain:\n",
    "        if item != \"@\":\n",
    "            domain.replace(item,\" \")\n",
    "            print(domain)\n",
    "        \n",
    "getDomain()\n",
    "\n",
    "#???"
   ]
  },
  {
   "cell_type": "markdown",
   "metadata": {},
   "source": [
    "4a- First, let's make a list of grocery, consisting of __\"banana\",\"orange\", and \"apple\"__, and name the list __grocery__."
   ]
  },
  {
   "cell_type": "code",
   "execution_count": null,
   "metadata": {},
   "outputs": [],
   "source": [
    "# Your solution goes here\n",
    "grocery=['banana','orange','apple'] #list of shopped items\n",
    "grocery[0:]"
   ]
  },
  {
   "cell_type": "markdown",
   "metadata": {},
   "source": [
    "Now you are given two dictionaries, showing the inventory stock and price of each item in the store."
   ]
  },
  {
   "cell_type": "code",
   "execution_count": null,
   "metadata": {},
   "outputs": [],
   "source": [
    "stock = {\n",
    "    \"banana\": 6,\n",
    "    \"apple\": 0,\n",
    "    \"orange\": 32,\n",
    "    \"pear\": 15\n",
    "}\n",
    "\n",
    "prices = {\n",
    "    \"banana\": 4,\n",
    "    \"apple\": 2,\n",
    "    \"orange\": 1.5,\n",
    "    \"pear\": 3\n",
    "}"
   ]
  },
  {
   "cell_type": "markdown",
   "metadata": {},
   "source": [
    "4b- Define a function __compute_bill__ that takes one argument __grocery__ as input. In the function, create a variable __total__ with an initial value of zero.For each item in the __grocery__ list, add the price of that item to total. Finally, return the __total__. Ignore whether or not the item you're billing for is in stock.Note that your function should work for any grocery list."
   ]
  },
  {
   "cell_type": "code",
   "execution_count": 132,
   "metadata": {},
   "outputs": [
    {
     "data": {
      "text/plain": [
       "7.5"
      ]
     },
     "execution_count": 132,
     "metadata": {},
     "output_type": "execute_result"
    }
   ],
   "source": [
    "def compute_bill(grocery):\n",
    "    total = 0\n",
    "    # Your solution goes here\n",
    "    for item in grocery:\n",
    "        a = prices[item] #fetching the price of each item\n",
    "        total += a\n",
    "    return total\n",
    "\n",
    "#Running compute_bill(grocery) should return 7.5\n",
    "compute_bill(grocery)"
   ]
  },
  {
   "cell_type": "markdown",
   "metadata": {},
   "source": [
    "4c- Make the following changes to your __compute_bill__ function:\n",
    "\n",
    "- While you loop through each item of grocery, only add the price of the item to total if the item's stock count is greater than zero.\n",
    "- If the item is in stock and after you add the price to the total, subtract one from the item's stock count.\n",
    "\n"
   ]
  },
  {
   "cell_type": "code",
   "execution_count": null,
   "metadata": {},
   "outputs": [],
   "source": [
    "def compute_bill(grocery):\n",
    "    total = 0\n",
    "    # Your solution goes here\n",
    "    for item in grocery:\n",
    "        a = prices[item] #fetching the price of each item\n",
    "        if stock[item] > 0:\n",
    "            total += a\n",
    "            stock[item]-=1\n",
    "    return total\n",
    "\n",
    "compute_bill(grocery)"
   ]
  },
  {
   "cell_type": "markdown",
   "metadata": {},
   "source": [
    "Running compute_bill(grocery) should now return 5.5, and the stock dictionary should become\n",
    "\n",
    "stock = {\n",
    "    \"banana\": 5,\n",
    "    \"apple\": 0,\n",
    "    \"orange\": 31,\n",
    "    \"pear\": 15\n",
    "}"
   ]
  },
  {
   "cell_type": "markdown",
   "metadata": {},
   "source": [
    "## Part 2: Letter count for a haiku\n",
    "\n",
    "The aim of this exercise is to count the number of occurences for each unique letter in a haiku"
   ]
  },
  {
   "cell_type": "markdown",
   "metadata": {
    "collapsed": true
   },
   "source": [
    "### Practicing with Strings\n",
    "Below is a simple \"haiku\" poem split into its individual lines. The code below prints each line for the haiku to be presentable."
   ]
  },
  {
   "cell_type": "code",
   "execution_count": null,
   "metadata": {
    "scrolled": true
   },
   "outputs": [],
   "source": [
    "list_of_strings = [\"Green and speckled legs,\", \"Hop on logs and lily pads\", \"Splash in cool water.\"]\n",
    "\n",
    "for line in list_of_strings:\n",
    "    print(line)"
   ]
  },
  {
   "cell_type": "markdown",
   "metadata": {},
   "source": [
    "Now **join all of the lines into a string** and then print the string. The lines should be printed on separate lines. As a reminder: new lines are represented in coding using the new line character \"**\\n**\"."
   ]
  },
  {
   "cell_type": "code",
   "execution_count": null,
   "metadata": {},
   "outputs": [],
   "source": [
    "# Define an empty string \"haiku\"\n",
    "haiku = ''\n",
    "\n",
    "# Join the lines in list_of_strings into haiku\n",
    "# Your code here\n",
    "haiku = \"\\n\".join(list_of_strings)\n",
    "\n",
    "#print\n",
    "print(haiku)"
   ]
  },
  {
   "cell_type": "markdown",
   "metadata": {},
   "source": [
    "### Using Lists\n",
    "\n",
    "From here, a **list** needs to be constructed for the individual characters that could be present in the string **haiku** defined in Part 1. For this purpose, a string of the *alphabet* can be used as below."
   ]
  },
  {
   "cell_type": "code",
   "execution_count": 127,
   "metadata": {},
   "outputs": [
    {
     "name": "stdout",
     "output_type": "stream",
     "text": [
      "['a', 'b', 'c', 'd', 'e', 'f', 'g', 'h', 'i', 'j', 'k', 'l', 'm', 'n', 'o', 'p', 'q', 'r', 's', 't', 'u', 'v', 'w', 'x', 'y', 'z']\n"
     ]
    }
   ],
   "source": [
    "# Define a string of all the characters in the English alphabet\n",
    "alphabet = \"abcdefghijklmnopqrstuvwxyz\"\n",
    "\n",
    "\n",
    "# Define a list for each character in the English alphabet\n",
    "items = []\n",
    "\n",
    "\n",
    "# Use list append to add each letter to items\n",
    "for letter in alphabet:\n",
    "    # Your code here\n",
    "    items.append(letter)\n",
    "print(items)"
   ]
  },
  {
   "cell_type": "markdown",
   "metadata": {},
   "source": [
    "Now we need a list containing the *count* of each character. Using a technique of your choice, **create a list of 26 0's** representing the count of the 26 characters in the alphabet."
   ]
  },
  {
   "cell_type": "code",
   "execution_count": 128,
   "metadata": {},
   "outputs": [
    {
     "data": {
      "text/plain": [
       "[0, 0, 0, 0, 0, 0, 0, 0, 0, 0, 0, 0, 0, 0, 0, 0, 0, 0, 0, 0, 0, 0, 0, 0, 0, 0]"
      ]
     },
     "execution_count": 128,
     "metadata": {},
     "output_type": "execute_result"
    }
   ],
   "source": [
    "# Define a list for the count of each character in the English alphabet\n",
    "count = [0]*26\n",
    "\n",
    "count"
   ]
  },
  {
   "cell_type": "raw",
   "metadata": {},
   "source": [
    "Calling count should show\n",
    "[0, 0, 0, 0, 0, 0, 0, 0, 0, 0, 0, 0, 0, 0, 0, 0, 0, 0, 0, 0, 0, 0, 0, 0, 0, 0]"
   ]
  },
  {
   "cell_type": "markdown",
   "metadata": {},
   "source": [
    "From here, the main code of the program can be written. As an example, the code below has a good structure, but it's not the only good structure. _Coding is an art and thus many different painters will use different strokes_. Also, there are some logical errors to the example code. Try fixing it or implement your own structure."
   ]
  },
  {
   "cell_type": "markdown",
   "metadata": {},
   "source": [
    "Your hint is that there are only lower case letters in the list **items** defined above. Also note that everytime you run your code, it will be cumulatively adding to the list **count**. Thus, you will need to re-run the code above to reset each element in the list **count** to 0 every time you run the code below."
   ]
  },
  {
   "cell_type": "code",
   "execution_count": 129,
   "metadata": {},
   "outputs": [
    {
     "name": "stdout",
     "output_type": "stream",
     "text": [
      "a : 5\n",
      "b : 0\n",
      "c : 2\n",
      "d : 4\n",
      "e : 6\n",
      "f : 0\n",
      "g : 3\n",
      "h : 2\n",
      "i : 2\n",
      "j : 0\n",
      "k : 1\n",
      "l : 7\n",
      "m : 0\n",
      "n : 5\n",
      "o : 5\n",
      "p : 4\n",
      "q : 0\n",
      "r : 2\n",
      "s : 6\n",
      "t : 1\n",
      "u : 0\n",
      "v : 0\n",
      "w : 1\n",
      "x : 0\n",
      "y : 1\n",
      "z : 0\n"
     ]
    }
   ],
   "source": [
    "def countLetter(haiku, items, count):\n",
    "    \n",
    "    count = [0]*26 #add count inside the function as a local variable to reset the value to zero each time you re-run the code\n",
    "    \n",
    "    haiku = haiku.lower()\n",
    "    haiku = haiku.replace(\",\",\"\")\n",
    "    haiku = haiku.replace(\".\",\"\")\n",
    "    haiku = haiku.replace(\" \",\"\")\n",
    "    haiku = haiku.replace(\"\\n\",\"\")\n",
    "    \n",
    "    for character in haiku:\n",
    "        count[items.index(character)] += 1\n",
    "    \n",
    "    i = 0\n",
    "    while i < len(items):\n",
    "        print(items[i], \":\", count[i])\n",
    "        i += 1\n",
    "\n",
    "countLetter(haiku, items, count)"
   ]
  },
  {
   "cell_type": "raw",
   "metadata": {},
   "source": [
    "Knowledge check:\n",
    "\n",
    "- Can you write def countLetter(a, b, c): and change haiku to a, items to b, count to c inside the countLetter function instead?\n",
    "- count is outside of function countLetter, therefore it's a global variable. But why you can modify it inside the function? And do you think this is a robust design? If not, how can you improve it?"
   ]
  },
  {
   "cell_type": "code",
   "execution_count": null,
   "metadata": {},
   "outputs": [],
   "source": []
  },
  {
   "cell_type": "markdown",
   "metadata": {
    "collapsed": true
   },
   "source": [
    "### Upgrading to a Dictionary\n",
    "\n",
    "As a few would have realised by now, the **dictionary** data type would be suitable for the operations attempting to be conducted in this \"haiku\" program. Thus, an upgrade is needed. Note that your **key** will be the character, and the **value** will be the count of each character."
   ]
  },
  {
   "cell_type": "code",
   "execution_count": 130,
   "metadata": {},
   "outputs": [
    {
     "data": {
      "text/plain": [
       "{'a': 0,\n",
       " 'b': 0,\n",
       " 'c': 0,\n",
       " 'd': 0,\n",
       " 'e': 0,\n",
       " 'f': 0,\n",
       " 'g': 0,\n",
       " 'h': 0,\n",
       " 'i': 0,\n",
       " 'j': 0,\n",
       " 'k': 0,\n",
       " 'l': 0,\n",
       " 'm': 0,\n",
       " 'n': 0,\n",
       " 'o': 0,\n",
       " 'p': 0,\n",
       " 'q': 0,\n",
       " 'r': 0,\n",
       " 's': 0,\n",
       " 't': 0,\n",
       " 'u': 0,\n",
       " 'v': 0,\n",
       " 'w': 0,\n",
       " 'x': 0,\n",
       " 'y': 0,\n",
       " 'z': 0}"
      ]
     },
     "execution_count": 130,
     "metadata": {},
     "output_type": "execute_result"
    }
   ],
   "source": [
    "def countDict(items, count):\n",
    "    # Create an empty dictionary\n",
    "    dictionary = {}\n",
    "\n",
    "\n",
    "    # Zip the two lists items and count together, and add each item:count pair to dictionary\n",
    "    # Your code here\n",
    "    for items, count in zip(items,count):\n",
    "        dictionary[items]=count\n",
    "    \n",
    "    return dictionary\n",
    "\n",
    "# Print the dictionary in the format: There are <count> <letter>\n",
    "# Your code here  \n",
    "countDict(items,count)"
   ]
  }
 ],
 "metadata": {
  "kernelspec": {
   "display_name": "Python 3",
   "language": "python",
   "name": "python3"
  },
  "language_info": {
   "codemirror_mode": {
    "name": "ipython",
    "version": 3
   },
   "file_extension": ".py",
   "mimetype": "text/x-python",
   "name": "python",
   "nbconvert_exporter": "python",
   "pygments_lexer": "ipython3",
   "version": "3.7.4"
  }
 },
 "nbformat": 4,
 "nbformat_minor": 2
}
