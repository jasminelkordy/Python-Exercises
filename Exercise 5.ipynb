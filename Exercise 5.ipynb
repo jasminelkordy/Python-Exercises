{
 "cells": [
  {
   "cell_type": "markdown",
   "metadata": {},
   "source": [
    "## Assignments\n",
    "\n",
    "Son Huynh\n",
    "31.01.2020"
   ]
  },
  {
   "cell_type": "code",
   "execution_count": 27,
   "metadata": {},
   "outputs": [],
   "source": [
    "import numpy as np"
   ]
  },
  {
   "cell_type": "markdown",
   "metadata": {},
   "source": [
    "### Question 1"
   ]
  },
  {
   "cell_type": "code",
   "execution_count": 28,
   "metadata": {},
   "outputs": [
    {
     "data": {
      "text/plain": [
       "array([[ 3,  3,  7,  2],\n",
       "       [ 4, 10,  7,  2],\n",
       "       [ 1,  2, 10,  1],\n",
       "       [ 1, 10,  4,  5],\n",
       "       [ 1,  1,  5,  2]])"
      ]
     },
     "execution_count": 28,
     "metadata": {},
     "output_type": "execute_result"
    }
   ],
   "source": [
    "np.random.seed(123)\n",
    "\n",
    "a = np.random.randint(1, 11, 20).reshape(5, 4)\n",
    "\n",
    "a"
   ]
  },
  {
   "cell_type": "markdown",
   "metadata": {},
   "source": [
    "#### 1.1 There are two number 7 in array `a`. Can you use slicing to get them?"
   ]
  },
  {
   "cell_type": "code",
   "execution_count": 29,
   "metadata": {},
   "outputs": [
    {
     "data": {
      "text/plain": [
       "(7, 7)"
      ]
     },
     "execution_count": 29,
     "metadata": {},
     "output_type": "execute_result"
    }
   ],
   "source": [
    "a[0,2],a[1,2]"
   ]
  },
  {
   "cell_type": "markdown",
   "metadata": {},
   "source": [
    "#### 1.2 Calculate the sum of each column, assign the result to an array called `sum_a`"
   ]
  },
  {
   "cell_type": "code",
   "execution_count": 64,
   "metadata": {},
   "outputs": [
    {
     "data": {
      "text/plain": [
       "array([10, 26, 33, 12])"
      ]
     },
     "execution_count": 64,
     "metadata": {},
     "output_type": "execute_result"
    }
   ],
   "source": [
    "sum_a = a.sum(axis=0) #axis 0 for columns, axis 1 for rows\n",
    "sum_a"
   ]
  },
  {
   "cell_type": "markdown",
   "metadata": {},
   "source": [
    "#### 1.3 Change the elements of array a into percentage of the respective column. For example, the first column should become `[0.3, 0.4, 0.1, 0.1, 0.1]`"
   ]
  },
  {
   "cell_type": "code",
   "execution_count": 31,
   "metadata": {},
   "outputs": [
    {
     "data": {
      "text/plain": [
       "array([[0.3       , 0.11538462, 0.21212121, 0.16666667],\n",
       "       [0.4       , 0.38461538, 0.21212121, 0.16666667],\n",
       "       [0.1       , 0.07692308, 0.3030303 , 0.08333333],\n",
       "       [0.1       , 0.38461538, 0.12121212, 0.41666667],\n",
       "       [0.1       , 0.03846154, 0.15151515, 0.16666667]])"
      ]
     },
     "execution_count": 31,
     "metadata": {},
     "output_type": "execute_result"
    }
   ],
   "source": [
    "a/sum_a"
   ]
  },
  {
   "cell_type": "markdown",
   "metadata": {},
   "source": [
    "#### 1.4 Use the `.sort()` method to sort array `a` by column. \n",
    "\n",
    "There are several functions and methods for python and its libraries. You should try google and official documentations to learn different techniques that we haven't covered in our lectures. For example you can read about the available methods for numpy array here: https://docs.scipy.org/doc/numpy/reference/generated/numpy.ndarray.html"
   ]
  },
  {
   "cell_type": "code",
   "execution_count": 32,
   "metadata": {},
   "outputs": [
    {
     "data": {
      "text/plain": [
       "array([[ 1,  1,  4,  1],\n",
       "       [ 1,  2,  5,  2],\n",
       "       [ 1,  3,  7,  2],\n",
       "       [ 3, 10,  7,  2],\n",
       "       [ 4, 10, 10,  5]])"
      ]
     },
     "execution_count": 32,
     "metadata": {},
     "output_type": "execute_result"
    }
   ],
   "source": [
    "a.sort(axis=0)\n",
    "a"
   ]
  },
  {
   "cell_type": "markdown",
   "metadata": {},
   "source": [
    "### Question 2"
   ]
  },
  {
   "cell_type": "code",
   "execution_count": 47,
   "metadata": {},
   "outputs": [
    {
     "data": {
      "text/plain": [
       "array([[ 4,  7,  9, 10],\n",
       "       [ 7,  9,  8, 10],\n",
       "       [ 4,  7,  2,  3],\n",
       "       [ 6,  6,  1,  6],\n",
       "       [ 1, 10, 10,  4]])"
      ]
     },
     "execution_count": 47,
     "metadata": {},
     "output_type": "execute_result"
    }
   ],
   "source": [
    "np.random.seed(23)\n",
    "\n",
    "b = np.random.randint(1,11, [5,4])\n",
    "\n",
    "b"
   ]
  },
  {
   "cell_type": "markdown",
   "metadata": {},
   "source": [
    "#### Find the maximum number for each row, considering only the first 3 columns\n",
    "\n",
    "The output should be `array([9, 9, 7, 6, 10])`"
   ]
  },
  {
   "cell_type": "code",
   "execution_count": 53,
   "metadata": {},
   "outputs": [
    {
     "data": {
      "text/plain": [
       "array([ 9,  9,  7,  6, 10])"
      ]
     },
     "execution_count": 53,
     "metadata": {},
     "output_type": "execute_result"
    }
   ],
   "source": [
    "b=b[:,0:3]\n",
    "b.max(axis=1)"
   ]
  },
  {
   "cell_type": "markdown",
   "metadata": {},
   "source": [
    "### Question 3"
   ]
  },
  {
   "cell_type": "code",
   "execution_count": 57,
   "metadata": {},
   "outputs": [],
   "source": [
    "c = np.array([1,2,3,np.nan,5,6,7,np.nan])"
   ]
  },
  {
   "cell_type": "markdown",
   "metadata": {},
   "source": [
    "#### In numpy, a missing value (blank value) is denoted as `np.nan`. Find out how many missing values is in array `c`.\n",
    "\n",
    "Hint: check out `np.isnan()` and `np.count_nonzero()`"
   ]
  },
  {
   "cell_type": "code",
   "execution_count": 63,
   "metadata": {},
   "outputs": [
    {
     "data": {
      "text/plain": [
       "array([False, False, False,  True, False, False, False,  True])"
      ]
     },
     "execution_count": 63,
     "metadata": {},
     "output_type": "execute_result"
    }
   ],
   "source": [
    "np.isnan(c)"
   ]
  },
  {
   "cell_type": "markdown",
   "metadata": {},
   "source": [
    "### Question 4 (optional)"
   ]
  },
  {
   "cell_type": "markdown",
   "metadata": {},
   "source": [
    "__4.1__ Create two arrays `a, b` sampled randomly from a uniform distribution within the range `[0,1]`.\n",
    "\n",
    "Array `a` has 100 numbers and array `b` has 80 numbers."
   ]
  },
  {
   "cell_type": "code",
   "execution_count": 89,
   "metadata": {},
   "outputs": [],
   "source": [
    "a = np.random.uniform(0,1,100) #uniform: lower limit, upper limit, amount\n",
    "b = np.random.uniform(0,1,80)"
   ]
  },
  {
   "cell_type": "markdown",
   "metadata": {},
   "source": [
    "__4.2__ Find out the mean and variance of `a` and `b`"
   ]
  },
  {
   "cell_type": "code",
   "execution_count": 97,
   "metadata": {},
   "outputs": [
    {
     "data": {
      "text/plain": [
       "(0.47888062254913427,\n",
       " 0.5127843300488204,\n",
       " 0.08948491131621475,\n",
       " 0.10054701705118)"
      ]
     },
     "execution_count": 97,
     "metadata": {},
     "output_type": "execute_result"
    }
   ],
   "source": [
    "a.mean(), b.mean(), a.var(), b.var()\n"
   ]
  },
  {
   "cell_type": "markdown",
   "metadata": {},
   "source": [
    "__4.3__ Perform a two-sample t-test to find out if the difference between `a` and `b`'s means are statistically significant.\n",
    "\n",
    "For this task you can import the `stats` module from scipy and use the `ttest_ind` function. Scipy is similar to numpy, but contains scientific functions that complement numpy.\n",
    "\n",
    "Learn about 2-sample t-test:\n",
    "https://stattrek.com/statistics/dictionary.aspx?definition=two-sample%20t-test"
   ]
  },
  {
   "cell_type": "code",
   "execution_count": null,
   "metadata": {},
   "outputs": [],
   "source": []
  },
  {
   "cell_type": "markdown",
   "metadata": {},
   "source": [
    "### Question 5 (optional)"
   ]
  },
  {
   "cell_type": "markdown",
   "metadata": {},
   "source": [
    "#### Comparison between for-loop and numpy performance:\n",
    "\n",
    "The function below simulates how many times on average the number 1 appears if you randomly select 100 numbers from 1 to 10. The simulation is run 10000 times."
   ]
  },
  {
   "cell_type": "code",
   "execution_count": 98,
   "metadata": {},
   "outputs": [],
   "source": [
    "import random"
   ]
  },
  {
   "cell_type": "code",
   "execution_count": 99,
   "metadata": {},
   "outputs": [],
   "source": [
    "def simulation():\n",
    "    results = []\n",
    "    for _ in range(10000):\n",
    "        l = []\n",
    "        for _ in range(100):\n",
    "            if random.randrange(1,11) == 1:\n",
    "                l.append(True)\n",
    "            else:\n",
    "                l.append(False)\n",
    "        results.append(sum(l))\n",
    "    return (sum(results) / len(results))"
   ]
  },
  {
   "cell_type": "markdown",
   "metadata": {},
   "source": [
    "Running simulation() should give us a result very close to 10."
   ]
  },
  {
   "cell_type": "code",
   "execution_count": 100,
   "metadata": {},
   "outputs": [
    {
     "data": {
      "text/plain": [
       "10.0411"
      ]
     },
     "execution_count": 100,
     "metadata": {},
     "output_type": "execute_result"
    }
   ],
   "source": [
    "simulation()"
   ]
  },
  {
   "cell_type": "markdown",
   "metadata": {},
   "source": [
    "Now recreate the simulation with numpy and without using for-loop and if-else.\n",
    "\n",
    "Hint:\n",
    "- You can use the table structure (row, column) to do this task\n",
    "- You can translate an array into a same-size boolean array (True/False) by some condition. For example: new_array = (old_array == 1)\n",
    "- In Python, True equals 1 and False equals 0"
   ]
  },
  {
   "cell_type": "code",
   "execution_count": null,
   "metadata": {},
   "outputs": [],
   "source": []
  },
  {
   "cell_type": "markdown",
   "metadata": {},
   "source": [
    "Now use %timeit in front of your code line to compare the run time between simulation() and numpy code. If your code has multiple lines, put it inside a funtion and use %timeit before the function call.\n",
    "\n",
    "Try changing the number of simulations from 10000 to 100000 in both approaches to see how fast numpy can be when the task gets bigger."
   ]
  },
  {
   "cell_type": "code",
   "execution_count": 101,
   "metadata": {
    "scrolled": true
   },
   "outputs": [
    {
     "name": "stdout",
     "output_type": "stream",
     "text": [
      "967 ms ± 32.7 ms per loop (mean ± std. dev. of 7 runs, 1 loop each)\n"
     ]
    }
   ],
   "source": [
    "%timeit simulation()"
   ]
  },
  {
   "cell_type": "markdown",
   "metadata": {},
   "source": [
    "### More about numpy"
   ]
  },
  {
   "cell_type": "markdown",
   "metadata": {},
   "source": [
    "We don't often use numpy syntax in common data analysis tasks. However, it is the core library that other more used libraries are built upon (pandas, scikit-learn, ...). If you want to learn more about the philosophy behind numpy's vectorization, here is one good resource.\n",
    "\n",
    "https://www.labri.fr/perso/nrougier/from-python-to-numpy/"
   ]
  },
  {
   "cell_type": "code",
   "execution_count": null,
   "metadata": {},
   "outputs": [],
   "source": []
  }
 ],
 "metadata": {
  "kernelspec": {
   "display_name": "Python 3",
   "language": "python",
   "name": "python3"
  },
  "language_info": {
   "codemirror_mode": {
    "name": "ipython",
    "version": 3
   },
   "file_extension": ".py",
   "mimetype": "text/x-python",
   "name": "python",
   "nbconvert_exporter": "python",
   "pygments_lexer": "ipython3",
   "version": "3.7.4"
  }
 },
 "nbformat": 4,
 "nbformat_minor": 2
}
