{
 "cells": [
  {
   "cell_type": "markdown",
   "metadata": {},
   "source": [
    "## Assignments\n",
    "\n",
    "Rohan Chauhan \n",
    "31.01.2020"
   ]
  },
  {
   "cell_type": "markdown",
   "metadata": {},
   "source": [
    "#### Submission Instructions\n",
    "\n",
    "1. Don't change the notebook's name.\n",
    "2. Download the notebook. Go to File -> Download Exercise 2.ipynb\n",
    "3. Click on the link http://bit.ly/python-submit\n",
    "4. Upload the file and enter your name and email.\n",
    "\n",
    "**Deadline for Submission**: 12.02.2020 Wednesday 10:00 a.m.\n",
    "\n",
    "Further notes: If you want to submit your assignment late, email trainer.python@theshortcut.org to ask for extension."
   ]
  },
  {
   "cell_type": "markdown",
   "metadata": {},
   "source": [
    "**Assignment 1** *Write a program to print patterns. (Optional)*\n"
   ]
  },
  {
   "cell_type": "code",
   "execution_count": 2,
   "metadata": {},
   "outputs": [
    {
     "name": "stdout",
     "output_type": "stream",
     "text": [
      "        5 \n",
      "      5 4 \n",
      "    5 4 3 \n",
      "  5 4 3 2 \n",
      "5 4 3 2 1 \n"
     ]
    }
   ],
   "source": [
    "# Pattern example\n",
    "for i in range(1,6):\n",
    "    for k in range(5-i):\n",
    "        print(' ',end=' ')\n",
    "    num = 5\n",
    "    for j in range(i):\n",
    "        print(num,end=' ')\n",
    "        num = num - 1\n",
    "    print('')\n",
    "    "
   ]
  },
  {
   "cell_type": "markdown",
   "metadata": {},
   "source": [
    "**Assignment 2** *Write a program to find length of a string without using len() function.*"
   ]
  },
  {
   "cell_type": "code",
   "execution_count": 3,
   "metadata": {},
   "outputs": [
    {
     "name": "stdout",
     "output_type": "stream",
     "text": [
      "Insert your name: jasmin\n",
      "6\n"
     ]
    }
   ],
   "source": [
    "#Your Solution goes here\n",
    "string = input(\"Insert your name: \")\n",
    "count= 0\n",
    "for i in string:\n",
    "    count+=1\n",
    "print(count)"
   ]
  },
  {
   "cell_type": "markdown",
   "metadata": {},
   "source": [
    "**Assignment 3** *Write a program to check if 2 strings are anagrams or not.* **Google, what's an anagram?** \n",
    "\n",
    "For example, <br/>\n",
    "`tac is anagram of cat`<br/>\n",
    "`taac is not anagram of cat`\n",
    "\n",
    "**(Optional)**"
   ]
  },
  {
   "cell_type": "code",
   "execution_count": 40,
   "metadata": {},
   "outputs": [
    {
     "name": "stdout",
     "output_type": "stream",
     "text": [
      "Insert a word: jasmin\n",
      "Insert a word: jaasmin\n",
      "Not anagrams\n"
     ]
    }
   ],
   "source": [
    "string = input(\"Insert a word: \")\n",
    "string2 = input(\"Insert a word: \")\n",
    "if (sorted(string)==sorted(string2)):\n",
    "    print(\"Anagrams\")\n",
    "else:\n",
    "    print(\"Not anagrams\")"
   ]
  },
  {
   "cell_type": "markdown",
   "metadata": {},
   "source": [
    "**Assignment 4** *Write a program to check if 2 strings are palindrome or not.* **Google, what's an palindrome?** \n",
    "For example, <br/>\n",
    "`madam is palindrome.`<br/>\n",
    "`caac is palindrome.`\n",
    "\n",
    "**(Optional)**"
   ]
  },
  {
   "cell_type": "code",
   "execution_count": 4,
   "metadata": {},
   "outputs": [
    {
     "name": "stdout",
     "output_type": "stream",
     "text": [
      "Insert a word: gaag\n",
      "Palindrome\n"
     ]
    }
   ],
   "source": [
    "#Your Solution goes here\n",
    "\n",
    "string = input(\"Insert a word: \")\n",
    "if (string==string[::-1]):\n",
    "    print(\"Palindrome\")\n",
    "else:\n",
    "    print(\"Not a palindrome\")\n"
   ]
  },
  {
   "cell_type": "markdown",
   "metadata": {},
   "source": [
    "__Assignment 5__ *Write a program to print the fibonacci sequence till 100.*"
   ]
  },
  {
   "cell_type": "code",
   "execution_count": 12,
   "metadata": {},
   "outputs": [
    {
     "name": "stdout",
     "output_type": "stream",
     "text": [
      "1\n",
      "2\n",
      "3\n",
      "5\n",
      "8\n",
      "13\n",
      "21\n",
      "34\n",
      "55\n",
      "89\n"
     ]
    }
   ],
   "source": [
    "#Your Solution goes here\n",
    "fibSequence=[0,1]*100\n",
    "n=1\n",
    "for n in range(len(fibSequence)):\n",
    "    fibSequence[n]=fibSequence[n-1]+fibSequence[n-2]\n",
    "    if (fibSequence[n]<=100):\n",
    "        print(fibSequence[n])"
   ]
  },
  {
   "cell_type": "markdown",
   "metadata": {},
   "source": [
    "**Assignment 6** *Write a program to check whether a number is armstrong number or not. For example:*\n",
    "\n",
    "  1\\*1\\*1 + 5\\*5\\*5 + 3\\*3\\*3 = 153 <br/>\n",
    "  1\\*1\\*1\\*1 + 6\\*6\\*6\\*6 + 3\\*3\\*3\\*3 + 4\\*4\\*4\\*4 = 1634\n",
    "  \n",
    "  Sum of each digit in the number raised to the power of total number of digits is equal to number itself."
   ]
  },
  {
   "cell_type": "code",
   "execution_count": null,
   "metadata": {},
   "outputs": [],
   "source": [
    "#Your Solution goes here"
   ]
  },
  {
   "cell_type": "markdown",
   "metadata": {},
   "source": [
    "**Assignment 7** *Write a program to find factorial of a number.*"
   ]
  },
  {
   "cell_type": "code",
   "execution_count": 34,
   "metadata": {},
   "outputs": [
    {
     "name": "stdout",
     "output_type": "stream",
     "text": [
      "Insert a number: 3\n",
      "1 != 1\n",
      "2 != 2\n",
      "3 != 6\n",
      "6\n"
     ]
    }
   ],
   "source": [
    "#Your Solution goes here\n",
    "num = int(input(\"Insert a number: \"))\n",
    "factorial=1\n",
    "for n in range(1,num+1):\n",
    "    factorial=factorial*n\n",
    "    print(n,'!=',factorial)\n",
    "print(factorial)"
   ]
  },
  {
   "cell_type": "markdown",
   "metadata": {},
   "source": [
    "**Assignment 8** *Write a program to return the of pair of numbers that equal a given sum k in a list.* For example,\n",
    "\n",
    "**Testcase**<br/>\n",
    "`list1 = [3,8,4,9,2,6,5]`<br/>\n",
    "`k = 11`<br/>\n",
    "**Answer**<br/>\n",
    "`3 8`<br/>\n",
    "`6 5`<br/>\n",
    "`9 2`<br/>\n",
    "\n",
    "**(Optional)**"
   ]
  },
  {
   "cell_type": "code",
   "execution_count": null,
   "metadata": {},
   "outputs": [],
   "source": [
    "#Your Solution goes here"
   ]
  }
 ],
 "metadata": {
  "kernelspec": {
   "display_name": "Python 3",
   "language": "python",
   "name": "python3"
  },
  "language_info": {
   "codemirror_mode": {
    "name": "ipython",
    "version": 3
   },
   "file_extension": ".py",
   "mimetype": "text/x-python",
   "name": "python",
   "nbconvert_exporter": "python",
   "pygments_lexer": "ipython3",
   "version": "3.7.4"
  }
 },
 "nbformat": 4,
 "nbformat_minor": 2
}
